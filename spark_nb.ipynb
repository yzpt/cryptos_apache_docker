{
 "cells": [
  {
   "cell_type": "code",
   "execution_count": 52,
   "metadata": {},
   "outputs": [],
   "source": [
    "from pyspark.sql import SparkSession\n",
    "from pyspark.sql.functions import from_json, col\n",
    "from pyspark.sql.types import StructType, StructField, StringType, FloatType, LongType\n",
    "import json"
   ]
  },
  {
   "cell_type": "code",
   "execution_count": 53,
   "metadata": {},
   "outputs": [],
   "source": [
    "def create_spark_connection():\n",
    "    s_conn = None\n",
    "\n",
    "    try:\n",
    "        s_conn = SparkSession.builder \\\n",
    "            .appName('SparkDataStreaming') \\\n",
    "            .config('spark.jars.packages', \"org.apache.spark:spark-sql-kafka-0-10_2.12:3.5.0\") \\\n",
    "            .getOrCreate()\n",
    "\n",
    "        s_conn.sparkContext.setLogLevel(\"ERROR\")\n",
    "        print(\"Spark connection created successfully!\")\n",
    "    except Exception as e:\n",
    "        print(\"Error creating Spark connection: {0}\".format(e))\n",
    "    return s_conn"
   ]
  },
  {
   "cell_type": "code",
   "execution_count": 54,
   "metadata": {},
   "outputs": [
    {
     "name": "stdout",
     "output_type": "stream",
     "text": [
      "Spark connection created successfully!\n"
     ]
    }
   ],
   "source": [
    "spark_conn = create_spark_connection()"
   ]
  },
  {
   "cell_type": "code",
   "execution_count": 55,
   "metadata": {},
   "outputs": [],
   "source": [
    "def connect_to_kafka(spark_conn):\n",
    "    spark_df = None\n",
    "    try:\n",
    "        spark_df = spark_conn.readStream \\\n",
    "            .format('kafka') \\\n",
    "            .option('kafka.bootstrap.servers', 'localhost:9092') \\\n",
    "            .option('subscribe', 'trades_topic') \\\n",
    "            .option('startingOffsets', 'earliest') \\\n",
    "            .load()\n",
    "        print(\"kafka dataframe created successfully\")\n",
    "    except Exception as e:\n",
    "        print(f\"kafka dataframe could not be created because: {e}\")\n",
    "\n",
    "    return spark_df"
   ]
  },
  {
   "cell_type": "code",
   "execution_count": 56,
   "metadata": {},
   "outputs": [
    {
     "name": "stdout",
     "output_type": "stream",
     "text": [
      "kafka dataframe created successfully\n"
     ]
    }
   ],
   "source": [
    "spark_df = connect_to_kafka(spark_conn)"
   ]
  },
  {
   "cell_type": "code",
   "execution_count": 57,
   "metadata": {},
   "outputs": [
    {
     "name": "stdout",
     "output_type": "stream",
     "text": [
      "{\n",
      "    \"data\": [\n",
      "        {\n",
      "            \"c\": null,\n",
      "            \"p\": 34851.9,\n",
      "            \"s\": \"BINANCE:BTCUSDT\",\n",
      "            \"t\": 1699351036478,\n",
      "            \"v\": 0.00014\n",
      "        },\n",
      "        {\n",
      "            \"c\": null,\n",
      "            \"p\": 34851.89,\n",
      "            \"s\": \"BINANCE:BTCUSDT\",\n",
      "            \"t\": 1699351036955,\n",
      "            \"v\": 0.01\n",
      "        },\n",
      "        {\n",
      "            \"c\": null,\n",
      "            \"p\": 34851.89,\n",
      "            \"s\": \"BINANCE:BTCUSDT\",\n",
      "            \"t\": 1699351037011,\n",
      "            \"v\": 0.00029\n",
      "        }\n",
      "    ],\n",
      "    \"type\": \"trade\"\n",
      "}\n"
     ]
    }
   ],
   "source": [
    "# message example\n",
    "data = '{\"data\":[{\"c\":null,\"p\":34851.9,\"s\":\"BINANCE:BTCUSDT\",\"t\":1699351036478,\"v\":0.00014},{\"c\":null,\"p\":34851.89,\"s\":\"BINANCE:BTCUSDT\",\"t\":1699351036955,\"v\":0.01},{\"c\":null,\"p\":34851.89,\"s\":\"BINANCE:BTCUSDT\",\"t\":1699351037011,\"v\":0.00029}],\"type\":\"trade\"}'\n",
    "print(json.dumps(json.loads(data), indent=4))"
   ]
  },
  {
   "cell_type": "markdown",
   "metadata": {},
   "source": [
    "s: Symbol\n",
    "\n",
    "p: Last price\n",
    "\n",
    "t: UNIX milliseconds timestamp\n",
    "\n",
    "v: Volume\n",
    "\n",
    "c: List of trade conditions."
   ]
  },
  {
   "cell_type": "code",
   "execution_count": 58,
   "metadata": {},
   "outputs": [],
   "source": [
    "from pyspark.sql.types import FloatType, LongType\n",
    "\n",
    "def create_selection_df_from_kafka(spark_df):\n",
    "    schema = StructType([\n",
    "        StructField(\"s\", StringType(), True),\n",
    "        StructField(\"p\", FloatType(), True),\n",
    "        StructField(\"t\", LongType(), True),\n",
    "        StructField(\"v\", FloatType(), True),\n",
    "        StructField(\"c\", StringType(), True)\n",
    "    ])\n",
    "\n",
    "    sel = spark_df.selectExpr(\"CAST(value AS STRING)\") \\\n",
    "        .select(from_json(col('value'), schema).alias('data')) \\\n",
    "        .select(\"data.*\")\n",
    "    \n",
    "    return sel"
   ]
  },
  {
   "cell_type": "code",
   "execution_count": 59,
   "metadata": {},
   "outputs": [],
   "source": [
    "selection_df = create_selection_df_from_kafka(spark_df)"
   ]
  },
  {
   "cell_type": "code",
   "execution_count": 60,
   "metadata": {},
   "outputs": [
    {
     "data": {
      "text/plain": [
       "DataFrame[s: string, p: float, t: bigint, v: float, c: string]"
      ]
     },
     "execution_count": 60,
     "metadata": {},
     "output_type": "execute_result"
    }
   ],
   "source": [
    "selection_df"
   ]
  },
  {
   "cell_type": "code",
   "execution_count": 61,
   "metadata": {},
   "outputs": [
    {
     "name": "stderr",
     "output_type": "stream",
     "text": [
      "                                                                                \r"
     ]
    },
    {
     "name": "stdout",
     "output_type": "stream",
     "text": [
      "-------------------------------------------\n",
      "Batch: 0\n",
      "-------------------------------------------\n",
      "+----+----+----+----+----+\n",
      "|   s|   p|   t|   v|   c|\n",
      "+----+----+----+----+----+\n",
      "|NULL|NULL|NULL|NULL|NULL|\n",
      "|NULL|NULL|NULL|NULL|NULL|\n",
      "|NULL|NULL|NULL|NULL|NULL|\n",
      "|NULL|NULL|NULL|NULL|NULL|\n",
      "|NULL|NULL|NULL|NULL|NULL|\n",
      "|NULL|NULL|NULL|NULL|NULL|\n",
      "+----+----+----+----+----+\n",
      "\n"
     ]
    }
   ],
   "source": [
    "streaming_query = selection_df \\\n",
    "    .writeStream \\\n",
    "    .format(\"console\") \\\n",
    "    .start()"
   ]
  },
  {
   "cell_type": "code",
   "execution_count": null,
   "metadata": {},
   "outputs": [],
   "source": []
  }
 ],
 "metadata": {
  "kernelspec": {
   "display_name": "venv_4",
   "language": "python",
   "name": "python3"
  },
  "language_info": {
   "codemirror_mode": {
    "name": "ipython",
    "version": 3
   },
   "file_extension": ".py",
   "mimetype": "text/x-python",
   "name": "python",
   "nbconvert_exporter": "python",
   "pygments_lexer": "ipython3",
   "version": "3.10.12"
  }
 },
 "nbformat": 4,
 "nbformat_minor": 2
}
