{
 "cells": [
  {
   "cell_type": "code",
   "execution_count": 2,
   "metadata": {},
   "outputs": [],
   "source": [
    "from pyspark.sql import DataFrame\n",
    "from pyspark.sql.streaming import DataStreamWriter\n",
    "\n",
    "# Create your postgresql configurations\n",
    "postgresql_sink_options = {\n",
    "    \"dbtable\": \"spark_db.users\",  # table\n",
    "    \"user\": \"postgres\",  # Database username\n",
    "    # \"password\": \"\",  # Password\n",
    "    \"driver\": \"org.postgresql.Driver\",\n",
    "    \"url\": \"jdbc:postgresql://localhost:5432/pendulum\"\n",
    "}\n",
    "\n",
    "# Method to write the dataset into postgresql\n",
    "def write_to_postgresql(dataset: DataFrame, mode: str = \"append\"):\n",
    "    def foreach_batch_function(df: DataFrame, epoch_id: int):\n",
    "        df.write \\\n",
    "            .format(\"jdbc\") \\\n",
    "            .options(**postgresql_sink_options) \\\n",
    "            .mode(mode) \\\n",
    "            .save()\n",
    "\n",
    "    return dataset.writeStream \\\n",
    "        .foreachBatch(foreach_batch_function) \\\n",
    "        .start() \\\n",
    "        .awaitTermination()\n"
   ]
  },
  {
   "cell_type": "code",
   "execution_count": null,
   "metadata": {},
   "outputs": [],
   "source": [
    "    "
   ]
  }
 ],
 "metadata": {
  "kernelspec": {
   "display_name": "venv_airflow",
   "language": "python",
   "name": "python3"
  },
  "language_info": {
   "codemirror_mode": {
    "name": "ipython",
    "version": 3
   },
   "file_extension": ".py",
   "mimetype": "text/x-python",
   "name": "python",
   "nbconvert_exporter": "python",
   "pygments_lexer": "ipython3",
   "version": "3.10.12"
  }
 },
 "nbformat": 4,
 "nbformat_minor": 2
}
