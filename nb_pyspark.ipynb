{
 "cells": [
  {
   "cell_type": "code",
   "execution_count": 1,
   "metadata": {},
   "outputs": [],
   "source": [
    "from pyspark.sql import SparkSession\n",
    "from pyspark.sql.functions import from_json, col\n",
    "from pyspark.sql.types import StructType, StructField, StringType"
   ]
  },
  {
   "cell_type": "code",
   "execution_count": 2,
   "metadata": {},
   "outputs": [],
   "source": [
    "def create_spark_connection():\n",
    "    s_conn = None\n",
    "\n",
    "    try:\n",
    "        s_conn = SparkSession.builder \\\n",
    "            .appName('SparkDataStreaming') \\\n",
    "            .config('spark.jars.packages', \"org.apache.spark:spark-sql-kafka-0-10_2.12:3.5.0\") \\\n",
    "            .getOrCreate()\n",
    "\n",
    "        # s_conn.sparkContext.setLogLevel(\"ERROR\")\n",
    "        print(\"Spark connection created successfully!\")\n",
    "    except Exception as e:\n",
    "        print(f\"Couldn't create the spark session due to exception {e}\")\n",
    "\n",
    "    return s_conn"
   ]
  },
  {
   "cell_type": "code",
   "execution_count": null,
   "metadata": {},
   "outputs": [],
   "source": [
    "spark_conn = create_spark_connection()"
   ]
  },
  {
   "cell_type": "code",
   "execution_count": 4,
   "metadata": {},
   "outputs": [],
   "source": [
    "def connect_to_kafka(spark_conn):\n",
    "    spark_df = None\n",
    "    try:\n",
    "        spark_df = spark_conn.readStream \\\n",
    "            .format('kafka') \\\n",
    "            .option('kafka.bootstrap.servers', 'kafka:9092') \\\n",
    "            .option('subscribe', 'test') \\\n",
    "            .option('startingOffsets', 'earliest') \\\n",
    "            .load()\n",
    "        print(\"kafka dataframe created successfully\")\n",
    "    except Exception as e:\n",
    "        print(f\"kafka dataframe could not be created because: {e}\")\n",
    "\n",
    "    return spark_df\n"
   ]
  },
  {
   "cell_type": "code",
   "execution_count": 5,
   "metadata": {},
   "outputs": [
    {
     "name": "stdout",
     "output_type": "stream",
     "text": [
      "kafka dataframe created successfully\n"
     ]
    }
   ],
   "source": [
    "spark_df = connect_to_kafka(spark_conn)"
   ]
  },
  {
   "cell_type": "code",
   "execution_count": 6,
   "metadata": {},
   "outputs": [
    {
     "name": "stdout",
     "output_type": "stream",
     "text": [
      "root\n",
      " |-- key: binary (nullable = true)\n",
      " |-- value: binary (nullable = true)\n",
      " |-- topic: string (nullable = true)\n",
      " |-- partition: integer (nullable = true)\n",
      " |-- offset: long (nullable = true)\n",
      " |-- timestamp: timestamp (nullable = true)\n",
      " |-- timestampType: integer (nullable = true)\n",
      "\n"
     ]
    }
   ],
   "source": [
    "spark_df.printSchema()\n"
   ]
  },
  {
   "cell_type": "code",
   "execution_count": null,
   "metadata": {},
   "outputs": [
    {
     "name": "stderr",
     "output_type": "stream",
     "text": [
      "23/11/14 15:22:56 WARN ResolveWriteToStream: Temporary checkpoint location created which is deleted normally when the query didn't fail: /tmp/temporary-579666a1-c854-4d50-9edc-475583c0deb0. If it's required to delete it under any circumstances, please set spark.sql.streaming.forceDeleteTempCheckpointLocation to true. Important to know deleting temp checkpoint folder is best effort.\n",
      "23/11/14 15:22:56 WARN ResolveWriteToStream: spark.sql.adaptive.enabled is not supported in streaming DataFrames/Datasets and will be disabled.\n"
     ]
    },
    {
     "name": "stderr",
     "output_type": "stream",
     "text": [
      "23/11/14 15:22:57 WARN AdminClientConfig: These configurations '[key.deserializer, value.deserializer, enable.auto.commit, max.poll.records, auto.offset.reset]' were supplied but are not used yet.\n",
      "                                                                                \r"
     ]
    },
    {
     "name": "stdout",
     "output_type": "stream",
     "text": [
      "-------------------------------------------\n",
      "Batch: 0\n",
      "-------------------------------------------\n",
      "+----+--------------------+-----+---------+------+--------------------+-------------+\n",
      "| key|               value|topic|partition|offset|           timestamp|timestampType|\n",
      "+----+--------------------+-----+---------+------+--------------------+-------------+\n",
      "|NULL|          [62 6A 72]| test|        0|     0|2023-11-14 14:49:...|            0|\n",
      "|NULL|       [61 6C 6C 6F]| test|        0|     1|2023-11-14 14:50:...|            0|\n",
      "|NULL|[6E 6A 6E 7A 6F 6...| test|        0|     2|2023-11-14 14:57:...|            0|\n",
      "|NULL|[6E 6A 6E 7A 6F 6...| test|        0|     3|2023-11-14 14:59:...|            0|\n",
      "|NULL|[6E 6A 6E 7A 6F 6...| test|        0|     4|2023-11-14 15:01:...|            0|\n",
      "|NULL|[6E 6A 6E 7A 6F 6...| test|        0|     5|2023-11-14 15:03:...|            0|\n",
      "|NULL| [6F 68 6F 68 6F 68]| test|        0|     6|2023-11-14 15:08:...|            0|\n",
      "+----+--------------------+-----+---------+------+--------------------+-------------+\n",
      "\n"
     ]
    },
    {
     "name": "stderr",
     "output_type": "stream",
     "text": [
      "                                                                                \r"
     ]
    },
    {
     "name": "stdout",
     "output_type": "stream",
     "text": [
      "-------------------------------------------\n",
      "Batch: 1\n",
      "-------------------------------------------\n",
      "+----+-------------------+-----+---------+------+--------------------+-------------+\n",
      "| key|              value|topic|partition|offset|           timestamp|timestampType|\n",
      "+----+-------------------+-----+---------+------+--------------------+-------------+\n",
      "|NULL|[61 68 61 68 61 68]| test|        0|     7|2023-11-14 15:23:...|            0|\n",
      "+----+-------------------+-----+---------+------+--------------------+-------------+\n",
      "\n"
     ]
    }
   ],
   "source": [
    "query = spark_df \\\n",
    "    .writeStream \\\n",
    "    .outputMode('append') \\\n",
    "    .format('console') \\\n",
    "    .start()\n",
    "\n",
    "# query.awaitTermination()"
   ]
  },
  {
   "cell_type": "code",
   "execution_count": null,
   "metadata": {},
   "outputs": [],
   "source": []
  }
 ],
 "metadata": {
  "kernelspec": {
   "display_name": "venv_4",
   "language": "python",
   "name": "python3"
  },
  "language_info": {
   "codemirror_mode": {
    "name": "ipython",
    "version": 3
   },
   "file_extension": ".py",
   "mimetype": "text/x-python",
   "name": "python",
   "nbconvert_exporter": "python",
   "pygments_lexer": "ipython3",
   "version": "3.10.12"
  }
 },
 "nbformat": 4,
 "nbformat_minor": 2
}
